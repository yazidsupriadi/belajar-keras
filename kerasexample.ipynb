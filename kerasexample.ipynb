{
  "nbformat": 4,
  "nbformat_minor": 0,
  "metadata": {
    "colab": {
      "name": "kerasexample.ipynb",
      "provenance": [],
      "authorship_tag": "ABX9TyM/bPO2zRTLA50HLSesFjqm",
      "include_colab_link": true
    },
    "kernelspec": {
      "name": "python3",
      "display_name": "Python 3"
    }
  },
  "cells": [
    {
      "cell_type": "markdown",
      "metadata": {
        "id": "view-in-github",
        "colab_type": "text"
      },
      "source": [
        "<a href=\"https://colab.research.google.com/github/yazidsupriadi/belajar-keras/blob/main/kerasexample.ipynb\" target=\"_parent\"><img src=\"https://colab.research.google.com/assets/colab-badge.svg\" alt=\"Open In Colab\"/></a>"
      ]
    },
    {
      "cell_type": "markdown",
      "metadata": {
        "id": "EPmip1GI40va"
      },
      "source": [
        "# Siapin dan proses data\n"
      ]
    },
    {
      "cell_type": "code",
      "metadata": {
        "id": "4vA4xO3z4qU6"
      },
      "source": [
        "import numpy as np\n",
        "from random import randint\n",
        "from sklearn.utils import shuffle\n",
        "from sklearn.preprocessing import MinMaxScaler"
      ],
      "execution_count": null,
      "outputs": []
    },
    {
      "cell_type": "code",
      "metadata": {
        "id": "lCR1sCmO5goN"
      },
      "source": [
        "train_labels = []\n",
        "train_samples = []"
      ],
      "execution_count": null,
      "outputs": []
    },
    {
      "cell_type": "markdown",
      "metadata": {
        "id": "Ov7DoBt85xIQ"
      },
      "source": [
        "contoh data\n",
        "\n",
        "1. pengecekan penggunaan narkoba telah dilakukan dari umur 13 - 100 di sebuah rumah sakit\n",
        "2. pengecekan mendapatkan 2100 participant, setengahnya berusia dibawah 65  dan sisanya diatas 65\n",
        "3. 95 % orang yang diatas 65 pernah merasakan efek samping\n",
        "4. 95% orang dibawah 65 gak merasakan efek samping"
      ]
    },
    {
      "cell_type": "code",
      "metadata": {
        "id": "2F95E9h-7Z4m"
      },
      "source": [
        "for i in range(50):\n",
        "  random_younger = randint(13,64)\n",
        "  train_samples.append(random_younger)\n",
        "  train_labels.append(1)\n",
        "\n",
        "  random_older = randint(65,100)\n",
        "  train_samples.append(random_older)\n",
        "  train_labels.append(0)\n",
        "\n",
        "\n",
        "for i in range(1000):\n",
        "  random_younger = randint(13,64)\n",
        "  train_samples.append(random_younger)\n",
        "  train_labels.append(0)\n",
        "\n",
        "  random_older = randint(65,100)\n",
        "  train_samples.append(random_older)\n",
        "  train_labels.append(1)\n"
      ],
      "execution_count": null,
      "outputs": []
    },
    {
      "cell_type": "code",
      "metadata": {
        "id": "VdAq7-tL8dc8",
        "outputId": "8dc4027c-bd8a-41cb-f133-f16725acfc56",
        "colab": {
          "base_uri": "https://localhost:8080/",
          "height": 1000
        }
      },
      "source": [
        "for i in train_samples:\n",
        "  print(i)"
      ],
      "execution_count": null,
      "outputs": [
        {
          "output_type": "stream",
          "text": [
            "24\n",
            "24\n",
            "44\n",
            "44\n",
            "64\n",
            "64\n",
            "53\n",
            "53\n",
            "21\n",
            "21\n",
            "43\n",
            "43\n",
            "28\n",
            "28\n",
            "49\n",
            "49\n",
            "44\n",
            "44\n",
            "60\n",
            "60\n",
            "19\n",
            "19\n",
            "26\n",
            "26\n",
            "49\n",
            "49\n",
            "41\n",
            "41\n",
            "46\n",
            "46\n",
            "44\n",
            "44\n",
            "14\n",
            "14\n",
            "25\n",
            "25\n",
            "52\n",
            "52\n",
            "19\n",
            "19\n",
            "15\n",
            "15\n",
            "50\n",
            "50\n",
            "57\n",
            "57\n",
            "35\n",
            "35\n",
            "29\n",
            "29\n",
            "44\n",
            "44\n",
            "18\n",
            "18\n",
            "26\n",
            "26\n",
            "32\n",
            "32\n",
            "63\n",
            "63\n",
            "22\n",
            "22\n",
            "35\n",
            "35\n",
            "25\n",
            "25\n",
            "20\n",
            "20\n",
            "21\n",
            "21\n",
            "27\n",
            "27\n",
            "57\n",
            "57\n",
            "49\n",
            "49\n",
            "28\n",
            "28\n",
            "45\n",
            "45\n",
            "54\n",
            "54\n",
            "22\n",
            "22\n",
            "26\n",
            "26\n",
            "39\n",
            "39\n",
            "62\n",
            "62\n",
            "37\n",
            "37\n",
            "40\n",
            "40\n",
            "44\n",
            "44\n",
            "46\n",
            "46\n",
            "43\n",
            "43\n"
          ],
          "name": "stdout"
        }
      ]
    },
    {
      "cell_type": "code",
      "metadata": {
        "id": "6sfi7bJk-jFy"
      },
      "source": [
        "train_labels = np.array(train_labels)\n",
        "train_samples = np.array(train_samples)\n",
        "train_labels,train_samples = shuffle(train_labels,train_samples)\n"
      ],
      "execution_count": null,
      "outputs": []
    },
    {
      "cell_type": "code",
      "metadata": {
        "id": "n94Jk8xc_CQn"
      },
      "source": [
        "scaler = MinMaxScaler(feature_range=(0,1))\n",
        "scaled_train_samples = scaler.fit_transform(train_samples.reshape(-1,1))"
      ],
      "execution_count": null,
      "outputs": []
    },
    {
      "cell_type": "code",
      "metadata": {
        "id": "EnyP3WFx_eID",
        "outputId": "fc6c8efd-2d87-437c-cc32-531cb9f3cee8",
        "colab": {
          "base_uri": "https://localhost:8080/",
          "height": 1000
        }
      },
      "source": [
        "for i in scaled_train_samples:\n",
        "  print(i)"
      ],
      "execution_count": null,
      "outputs": [
        {
          "output_type": "stream",
          "text": [
            "[0.96]\n",
            "[0.6]\n",
            "[0.78]\n",
            "[0.86]\n",
            "[0.52]\n",
            "[0.6]\n",
            "[0.42]\n",
            "[0.42]\n",
            "[0.42]\n",
            "[0.28]\n",
            "[1.]\n",
            "[0.28]\n",
            "[0.6]\n",
            "[0.5]\n",
            "[0.7]\n",
            "[0.22]\n",
            "[0.02]\n",
            "[0.8]\n",
            "[0.7]\n",
            "[0.62]\n",
            "[0.24]\n",
            "[0.8]\n",
            "[0.62]\n",
            "[0.6]\n",
            "[0.46]\n",
            "[0.24]\n",
            "[0.14]\n",
            "[0.72]\n",
            "[0.1]\n",
            "[0.5]\n",
            "[0.98]\n",
            "[0.24]\n",
            "[0.02]\n",
            "[0.78]\n",
            "[0.36]\n",
            "[0.58]\n",
            "[0.7]\n",
            "[0.14]\n",
            "[0.14]\n",
            "[0.2]\n",
            "[0.16]\n",
            "[0.6]\n",
            "[0.28]\n",
            "[0.86]\n",
            "[0.]\n",
            "[0.16]\n",
            "[0.64]\n",
            "[0.64]\n",
            "[0.16]\n",
            "[0.6]\n",
            "[0.6]\n",
            "[0.76]\n",
            "[0.22]\n",
            "[0.1]\n",
            "[0.3]\n",
            "[0.42]\n",
            "[0.6]\n",
            "[0.36]\n",
            "[0.86]\n",
            "[0.24]\n",
            "[0.16]\n",
            "[0.14]\n",
            "[0.08]\n",
            "[0.7]\n",
            "[0.98]\n",
            "[1.]\n",
            "[0.96]\n",
            "[0.7]\n",
            "[0.54]\n",
            "[0.64]\n",
            "[0.]\n",
            "[0.12]\n",
            "[0.28]\n",
            "[0.6]\n",
            "[0.54]\n",
            "[0.08]\n",
            "[0.1]\n",
            "[0.92]\n",
            "[0.64]\n",
            "[0.6]\n",
            "[0.7]\n",
            "[0.12]\n",
            "[0.2]\n",
            "[0.26]\n",
            "[0.46]\n",
            "[0.76]\n",
            "[0.72]\n",
            "[0.1]\n",
            "[0.3]\n",
            "[0.26]\n",
            "[0.22]\n",
            "[0.24]\n",
            "[0.58]\n",
            "[0.52]\n",
            "[0.22]\n",
            "[0.92]\n",
            "[0.24]\n",
            "[0.58]\n",
            "[0.86]\n",
            "[0.58]\n"
          ],
          "name": "stdout"
        }
      ]
    }
  ]
}